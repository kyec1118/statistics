{
 "cells": [
  {
   "cell_type": "markdown",
   "metadata": {},
   "source": [
    "# NUMPY 101\n",
    "\n",
    "Numpy為一個Python的矩陣運算函式庫，包含了基本的矩陣運算、線性代數、隨機變數產生、以及一些相關的計算功能。令一個兄弟函式庫為scipy，為Scientific Python的縮寫。這兩個函式庫涵蓋了所有本課程會用到的功能，而其中又以numpy為大宗。因此我們將會以numpy為主角。\n",
    "\n",
    "我們在這個單元將會介紹基本的矩陣運算。如果想要更深入的了解，網路上有豐富的資源，如：\n",
    "Python Linear Algebra Cheat Sheet: https://s3.amazonaws.com/assets.datacamp.com/blog_assets/Python_SciPy_Cheat_Sheet_Linear_Algebra.pdf\n",
    "\n",
    "或是參考numpy網站以及scipy網站上的文件：\n",
    "* https://numpy.org/\n",
    "* https://www.scipy.org/\n",
    "\n",
    "以及這些網頁：\n",
    "* http://rlhick.people.wm.edu/stories/linear-algebra-python-basics.html\n",
    "* https://jakevdp.github.io/PythonDataScienceHandbook/02.02-the-basics-of-numpy-arrays.html\n"
   ]
  },
  {
   "cell_type": "markdown",
   "metadata": {},
   "source": [
    "### 建構矩陣"
   ]
  },
  {
   "cell_type": "markdown",
   "metadata": {},
   "source": [
    "首先由建構向量與矩陣開始。在使用之前必須先import numpy:"
   ]
  },
  {
   "cell_type": "code",
   "execution_count": 1,
   "metadata": {},
   "outputs": [],
   "source": [
    "import numpy as np"
   ]
  },
  {
   "cell_type": "markdown",
   "metadata": {},
   "source": [
    "接下來我們來建構第一個向量，一個Row Vector"
   ]
  },
  {
   "cell_type": "code",
   "execution_count": 2,
   "metadata": {},
   "outputs": [
    {
     "name": "stdout",
     "output_type": "stream",
     "text": [
      "[1.  2.  3.3]\n"
     ]
    }
   ],
   "source": [
    "r1 = np.array([1, 2, 3.3])\n",
    "print(r1)"
   ]
  },
  {
   "cell_type": "markdown",
   "metadata": {},
   "source": [
    "跟Column Vector比較一下："
   ]
  },
  {
   "cell_type": "code",
   "execution_count": 3,
   "metadata": {},
   "outputs": [
    {
     "name": "stdout",
     "output_type": "stream",
     "text": [
      "[[1]\n",
      " [2]\n",
      " [3]]\n"
     ]
    }
   ],
   "source": [
    "c1 = np.array([[1], \n",
    "             [2], \n",
    "             [3]])\n",
    "print(c1)"
   ]
  },
  {
   "cell_type": "code",
   "execution_count": 4,
   "metadata": {},
   "outputs": [
    {
     "data": {
      "text/plain": [
       "array([[1],\n",
       "       [2],\n",
       "       [3]])"
      ]
     },
     "execution_count": 4,
     "metadata": {},
     "output_type": "execute_result"
    }
   ],
   "source": [
    "c1"
   ]
  },
  {
   "cell_type": "markdown",
   "metadata": {},
   "source": [
    "實際上，上面的Row Vector是一個 $1 \\times 3$的陣列(Array)，而Column Vector則是一個$3 \\times 1$的陣列。這個課程討論的矩陣是兩個維度，因此也只會用的二維的矩陣。\n",
    "\n",
    "我們可以透過`.shape`得到一個array的大小，比如說："
   ]
  },
  {
   "cell_type": "code",
   "execution_count": 4,
   "metadata": {},
   "outputs": [
    {
     "name": "stdout",
     "output_type": "stream",
     "text": [
      "(3, 1)\n"
     ]
    }
   ],
   "source": [
    "print(c1.shape)"
   ]
  },
  {
   "cell_type": "markdown",
   "metadata": {},
   "source": [
    "不過`r1`就有點怪怪的："
   ]
  },
  {
   "cell_type": "code",
   "execution_count": 5,
   "metadata": {},
   "outputs": [
    {
     "name": "stdout",
     "output_type": "stream",
     "text": [
      "(3,)\n"
     ]
    }
   ],
   "source": [
    "print(r1.shape)"
   ]
  },
  {
   "cell_type": "markdown",
   "metadata": {},
   "source": [
    "回傳的`(3,)`代表r1是一個一維的陣列，而c1是一個二維的陣列。這件事在後續的計算會再遇到。目前先在這裡打住。\n",
    "\n",
    "要特別說明的是，因為我們使用一維與二維陣列代表向量與矩陣，這些名詞會交替使用。"
   ]
  },
  {
   "cell_type": "markdown",
   "metadata": {},
   "source": [
    "我們來建構一個$4\\times 3$的矩陣。"
   ]
  },
  {
   "cell_type": "code",
   "execution_count": 5,
   "metadata": {},
   "outputs": [
    {
     "name": "stdout",
     "output_type": "stream",
     "text": [
      "[[ 1.   2.   3. ]\n",
      " [ 2.   3.   5. ]\n",
      " [ 5.2  9.  12. ]\n",
      " [-3.  22.   7. ]]\n"
     ]
    }
   ],
   "source": [
    "m1 = np.array([[1, 2, 3], \n",
    "               [2, 3, 5], \n",
    "               [5.2, 9, 12],\n",
    "               [-3, 22, 7]])\n",
    "print(m1)"
   ]
  },
  {
   "cell_type": "code",
   "execution_count": 6,
   "metadata": {},
   "outputs": [
    {
     "data": {
      "text/plain": [
       "(4, 3)"
      ]
     },
     "execution_count": 6,
     "metadata": {},
     "output_type": "execute_result"
    }
   ],
   "source": [
    "m1.shape"
   ]
  },
  {
   "cell_type": "markdown",
   "metadata": {},
   "source": [
    "另外numpy有提供一些函數方便大家建構特殊的矩陣。比如說"
   ]
  },
  {
   "cell_type": "code",
   "execution_count": 7,
   "metadata": {},
   "outputs": [
    {
     "name": "stdout",
     "output_type": "stream",
     "text": [
      "[[0. 0. 0.]\n",
      " [0. 0. 0.]\n",
      " [0. 0. 0.]]\n"
     ]
    }
   ],
   "source": [
    "#Create an array of all zeros\n",
    "ex1 = np.zeros((3, 3))\n",
    "print(ex1)"
   ]
  },
  {
   "cell_type": "code",
   "execution_count": 8,
   "metadata": {},
   "outputs": [
    {
     "name": "stdout",
     "output_type": "stream",
     "text": [
      "[[1. 1. 1.]\n",
      " [1. 1. 1.]]\n"
     ]
    }
   ],
   "source": [
    "#Create an array of all ones\n",
    "ex2 = np.ones((2, 3))\n",
    "print(ex2)"
   ]
  },
  {
   "cell_type": "code",
   "execution_count": 9,
   "metadata": {},
   "outputs": [
    {
     "name": "stdout",
     "output_type": "stream",
     "text": [
      "[[5.2 5.2]\n",
      " [5.2 5.2]\n",
      " [5.2 5.2]]\n"
     ]
    }
   ],
   "source": [
    "#Create a constant array\n",
    "ex3 = np.full((3, 2), 5.2)\n",
    "print(ex3)"
   ]
  },
  {
   "cell_type": "code",
   "execution_count": 10,
   "metadata": {},
   "outputs": [
    {
     "name": "stdout",
     "output_type": "stream",
     "text": [
      "[[1. 0. 0.]\n",
      " [0. 1. 0.]\n",
      " [0. 0. 1.]]\n"
     ]
    }
   ],
   "source": [
    "#Create an identity matrix\n",
    "ex4 = np.eye(3)\n",
    "print(ex4)"
   ]
  },
  {
   "cell_type": "code",
   "execution_count": 12,
   "metadata": {},
   "outputs": [
    {
     "name": "stdout",
     "output_type": "stream",
     "text": [
      "[[0.07948145 0.93524253 0.40547127 0.34074214]\n",
      " [0.84779042 0.25150756 0.54336106 0.83650513]\n",
      " [0.04462102 0.88618739 0.55128531 0.47274217]\n",
      " [0.30129341 0.52929371 0.32960264 0.55869939]]\n"
     ]
    }
   ],
   "source": [
    "#Random matrix (隨機矩陣), draw from Uniform(0, 1)\n",
    "ex5 = np.random.random((4, 4))\n",
    "print(ex5)"
   ]
  },
  {
   "cell_type": "markdown",
   "metadata": {},
   "source": [
    "## 基本運算\n",
    "\n",
    "我們會使用numpy中定義的array運算來實現矩陣的計算。必須要記在心裡的是，矩陣跟陣列畢竟是不一樣的東西，要小心使用才能有正確（預期）的結果。\n",
    "\n",
    "我們先看簡單的狀況：形狀一樣的陣列相加。"
   ]
  },
  {
   "cell_type": "code",
   "execution_count": 13,
   "metadata": {},
   "outputs": [
    {
     "name": "stdout",
     "output_type": "stream",
     "text": [
      "c3 = \n",
      " [[1. ]\n",
      " [2.5]\n",
      " [3. ]]\n",
      "c4 = \n",
      " [[-12]\n",
      " [  5]\n",
      " [ -1]]\n"
     ]
    }
   ],
   "source": [
    "c3 = np.array([[1], \n",
    "             [2.5], \n",
    "             [3]])\n",
    "print(\"c3 = \\n\", c3)\n",
    "\n",
    "c4 = np.array([[-12], \n",
    "             [5], \n",
    "             [-1]])\n",
    "print(\"c4 = \\n\", c4)"
   ]
  },
  {
   "cell_type": "markdown",
   "metadata": {},
   "source": [
    "形狀一樣的陣列相加就是把對應的元素加起來。結果的形狀跟原來是一樣的。"
   ]
  },
  {
   "cell_type": "code",
   "execution_count": 14,
   "metadata": {},
   "outputs": [
    {
     "name": "stdout",
     "output_type": "stream",
     "text": [
      "[[-11. ]\n",
      " [  7.5]\n",
      " [  2. ]]\n"
     ]
    }
   ],
   "source": [
    "print(c3+c4)"
   ]
  },
  {
   "cell_type": "markdown",
   "metadata": {},
   "source": [
    "那如果形狀不一樣的陣列可以相加嗎？\n",
    "如果我們把陣列看成矩陣，應該要預期跳出錯誤訊息。不過實際上為了計算方便，應付實際上可能會遇到的狀況，numpy允許你把兩個形狀不一樣的矩陣相加。比如說："
   ]
  },
  {
   "cell_type": "code",
   "execution_count": 15,
   "metadata": {},
   "outputs": [
    {
     "name": "stdout",
     "output_type": "stream",
     "text": [
      "[1.  2.  3.3]\n"
     ]
    }
   ],
   "source": [
    "#shape = (3,)\n",
    "print(r1)"
   ]
  },
  {
   "cell_type": "code",
   "execution_count": 16,
   "metadata": {},
   "outputs": [
    {
     "name": "stdout",
     "output_type": "stream",
     "text": [
      "[[1]\n",
      " [2]\n",
      " [3]]\n"
     ]
    }
   ],
   "source": [
    "#shape(3, 1)\n",
    "print(c1)"
   ]
  },
  {
   "cell_type": "code",
   "execution_count": 17,
   "metadata": {},
   "outputs": [
    {
     "name": "stdout",
     "output_type": "stream",
     "text": [
      "[[2.  3.  4.3]\n",
      " [3.  4.  5.3]\n",
      " [4.  5.  6.3]]\n"
     ]
    }
   ],
   "source": [
    "#add two array of different shapes\n",
    "madd1 = r1+c1\n",
    "print(madd1)"
   ]
  },
  {
   "cell_type": "markdown",
   "metadata": {},
   "source": [
    "可以看到`r1+c1`產生了一個 $3 \\times 3$的陣列。裡面的數值是把r1看成一個$1 \\times 3$的陣列，然後在結果矩陣的每一個位置取相對的r1與c1的值相加。舉例而言，madd1中(1,2)位置的值為取c1的第一個位置的值(1)與r1第二個位置的值(2)相加的到的(=3)。\n",
    "\n",
    "這個行為在numpy中稱為broadcasting。在遇到真的問題時很有用，不過也常會讓初學者混淆。"
   ]
  },
  {
   "cell_type": "markdown",
   "metadata": {},
   "source": [
    "### 牛刀小試\n",
    "\n",
    "建構一個叫r5的Row Vector，裡面的值為1, 2, 3, 4。將r5與c1相加。在還沒實際執行程式碼之前，想想\n",
    "* 回傳的陣列形狀是什麼？\n",
    "* 裡面的值會是什麼？"
   ]
  },
  {
   "cell_type": "code",
   "execution_count": 18,
   "metadata": {},
   "outputs": [],
   "source": [
    "# 有空間才能思考\n",
    "\n",
    "\n",
    "\n",
    "\n",
    "\n",
    "\n",
    "\n",
    "\n",
    "\n",
    "\n",
    "\n",
    "\n",
    "\n",
    "\n"
   ]
  },
  {
   "cell_type": "code",
   "execution_count": 18,
   "metadata": {},
   "outputs": [
    {
     "name": "stdout",
     "output_type": "stream",
     "text": [
      "madd2 = \n",
      " [[2 3 4 5]\n",
      " [3 4 5 6]\n",
      " [4 5 6 7]]\n",
      "the shape is:  (3, 4)\n"
     ]
    }
   ],
   "source": [
    "# 參考解答\n",
    "\n",
    "r5 = np.array([1, 2, 3, 4])\n",
    "madd2 = r5 + c1\n",
    "print(\"madd2 = \\n\", madd2)\n",
    "print(\"the shape is: \", madd2.shape)"
   ]
  },
  {
   "cell_type": "markdown",
   "metadata": {},
   "source": [
    "以下我們的討論會以陣列的形狀相同為前提。\n",
    "\n",
    "先定義`m2`與`m3`:"
   ]
  },
  {
   "cell_type": "code",
   "execution_count": 19,
   "metadata": {},
   "outputs": [
    {
     "name": "stdout",
     "output_type": "stream",
     "text": [
      "[[1 2 3]\n",
      " [2 3 5]]\n"
     ]
    }
   ],
   "source": [
    "m2 = np.array([[1, 2, 3], \n",
    "               [2, 3, 5]])\n",
    "print(m2)"
   ]
  },
  {
   "cell_type": "code",
   "execution_count": 20,
   "metadata": {},
   "outputs": [
    {
     "name": "stdout",
     "output_type": "stream",
     "text": [
      "[[ 2  1]\n",
      " [ 1  1]\n",
      " [-1  1]]\n"
     ]
    }
   ],
   "source": [
    "m3 = np.array([[2, 1], \n",
    "               [1, 1], \n",
    "               [-1, 1]])\n",
    "print(m3)"
   ]
  },
  {
   "cell_type": "markdown",
   "metadata": {},
   "source": [
    "矩陣乘法為`np.dot()`，所以$m2 \\cdot m3$是"
   ]
  },
  {
   "cell_type": "code",
   "execution_count": 21,
   "metadata": {},
   "outputs": [
    {
     "name": "stdout",
     "output_type": "stream",
     "text": [
      "[[ 1  6]\n",
      " [ 2 10]]\n"
     ]
    }
   ],
   "source": [
    "mb1 = np.dot(m2, m3)\n",
    "print(mb1)"
   ]
  },
  {
   "cell_type": "markdown",
   "metadata": {},
   "source": [
    "而$m3 \\cdot m2$是："
   ]
  },
  {
   "cell_type": "code",
   "execution_count": 23,
   "metadata": {},
   "outputs": [
    {
     "name": "stdout",
     "output_type": "stream",
     "text": [
      "[[ 4  7 11]\n",
      " [ 3  5  8]\n",
      " [ 1  1  2]]\n"
     ]
    }
   ],
   "source": [
    "mb2 = np.dot(m3, m2)\n",
    "print(mb2)"
   ]
  },
  {
   "cell_type": "markdown",
   "metadata": {},
   "source": [
    "轉置 (transpose)是"
   ]
  },
  {
   "cell_type": "code",
   "execution_count": 24,
   "metadata": {},
   "outputs": [
    {
     "data": {
      "text/plain": [
       "array([[1, 2],\n",
       "       [2, 3],\n",
       "       [3, 5]])"
      ]
     },
     "execution_count": 24,
     "metadata": {},
     "output_type": "execute_result"
    }
   ],
   "source": [
    "np.transpose(m2)"
   ]
  },
  {
   "cell_type": "markdown",
   "metadata": {},
   "source": [
    "另一個作法是取用原陣列的屬性`.T`"
   ]
  },
  {
   "cell_type": "code",
   "execution_count": 25,
   "metadata": {},
   "outputs": [
    {
     "data": {
      "text/plain": [
       "array([[1, 2],\n",
       "       [2, 3],\n",
       "       [3, 5]])"
      ]
     },
     "execution_count": 25,
     "metadata": {},
     "output_type": "execute_result"
    }
   ],
   "source": [
    "m2.T"
   ]
  },
  {
   "cell_type": "markdown",
   "metadata": {},
   "source": [
    "至於反矩陣則是`np.linalg.inv()`"
   ]
  },
  {
   "cell_type": "code",
   "execution_count": 22,
   "metadata": {},
   "outputs": [
    {
     "name": "stdout",
     "output_type": "stream",
     "text": [
      "[[-2.   1. ]\n",
      " [ 1.5 -0.5]]\n"
     ]
    }
   ],
   "source": [
    "m4 = np.array([[1, 2], \n",
    "              [3, 4]])\n",
    "invm4 = np.linalg.inv(m4)\n",
    "print(invm4)"
   ]
  },
  {
   "cell_type": "code",
   "execution_count": 24,
   "metadata": {},
   "outputs": [
    {
     "name": "stdout",
     "output_type": "stream",
     "text": [
      "[[1.00000000e+00 1.11022302e-16]\n",
      " [0.00000000e+00 1.00000000e+00]]\n"
     ]
    }
   ],
   "source": [
    "#check the correctness\n",
    "#如果乘起來不是Identity Matrix就去買樂透\n",
    "\n",
    "print(np.dot(m4, invm4))"
   ]
  },
  {
   "cell_type": "code",
   "execution_count": 25,
   "metadata": {},
   "outputs": [
    {
     "name": "stdout",
     "output_type": "stream",
     "text": [
      "[[1.0000000e+00 4.4408921e-16]\n",
      " [0.0000000e+00 1.0000000e+00]]\n"
     ]
    }
   ],
   "source": [
    "print(np.dot(invm4, m4))"
   ]
  },
  {
   "cell_type": "markdown",
   "metadata": {},
   "source": [
    "現在大家的電腦都很快，何不算一個大一點的矩陣？"
   ]
  },
  {
   "cell_type": "code",
   "execution_count": 26,
   "metadata": {},
   "outputs": [
    {
     "name": "stdout",
     "output_type": "stream",
     "text": [
      "[[ -1.31739656  -4.01398237   7.10114299  -1.73000682  -2.63971205]\n",
      " [  0.18616291  -4.42292252   7.15956637  -2.27196027  -3.78437177]\n",
      " [  0.20958999   3.46906413  -3.88203219   0.05078232   2.74259761]\n",
      " [  0.16567911  -6.14302343   5.89831225  -0.68391288  -2.87996607]\n",
      " [  1.37989539  16.4871088  -20.9273775    6.20439054   9.16117675]]\n"
     ]
    }
   ],
   "source": [
    "m5 = np.random.random((5, 5))\n",
    "invm5 = np.linalg.inv(m5)\n",
    "print(invm5)"
   ]
  },
  {
   "cell_type": "code",
   "execution_count": 27,
   "metadata": {},
   "outputs": [
    {
     "name": "stdout",
     "output_type": "stream",
     "text": [
      "[[ 1.00000000e+00 -2.42595305e-16  1.27124989e-15 -6.38567697e-17\n",
      "  -2.37191126e-16]\n",
      " [ 1.00193723e-16  1.00000000e+00 -9.53463742e-17  2.11769991e-16\n",
      "   6.21493015e-17]\n",
      " [ 1.62113091e-17  9.31033308e-17  1.00000000e+00  1.41203794e-16\n",
      "   5.40991823e-16]\n",
      " [-1.15039088e-16  6.86527808e-16 -2.64311763e-15  1.00000000e+00\n",
      "   8.28486452e-16]\n",
      " [ 7.44464847e-17  7.64741857e-16 -9.39604545e-16  7.55615873e-17\n",
      "   1.00000000e+00]]\n"
     ]
    }
   ],
   "source": [
    "#檢查正確性\n",
    "\n",
    "print(np.dot(m5, invm5))"
   ]
  },
  {
   "cell_type": "code",
   "execution_count": 28,
   "metadata": {},
   "outputs": [
    {
     "name": "stdout",
     "output_type": "stream",
     "text": [
      "[[ 1. -0.  0. -0. -0.]\n",
      " [ 0.  1. -0.  0.  0.]\n",
      " [ 0.  0.  1.  0.  0.]\n",
      " [-0.  0. -0.  1.  0.]\n",
      " [ 0.  0. -0.  0.  1.]]\n"
     ]
    }
   ],
   "source": [
    "# 有時候Scientific Notation讓人看不清楚，何不關掉先？\n",
    "\n",
    "np.set_printoptions(suppress=True)\n",
    "print(np.dot(m5, invm5))"
   ]
  },
  {
   "cell_type": "markdown",
   "metadata": {},
   "source": [
    "## 其他操作與子陣列\n",
    "\n",
    "numpy有一個跟range很像的東西，叫np.arange()。"
   ]
  },
  {
   "cell_type": "code",
   "execution_count": 32,
   "metadata": {},
   "outputs": [
    {
     "data": {
      "text/plain": [
       "array([0, 1, 2, 3, 4, 5, 6, 7, 8, 9])"
      ]
     },
     "execution_count": 32,
     "metadata": {},
     "output_type": "execute_result"
    }
   ],
   "source": [
    "#create an array of 0 to 9\n",
    "np.arange(10)"
   ]
  },
  {
   "cell_type": "code",
   "execution_count": 29,
   "metadata": {},
   "outputs": [
    {
     "data": {
      "text/plain": [
       "array([11, 12, 13, 14, 15, 16, 17, 18, 19, 20])"
      ]
     },
     "execution_count": 29,
     "metadata": {},
     "output_type": "execute_result"
    }
   ],
   "source": [
    "#create an array of 11 to 20\n",
    "np.arange(11, 21)"
   ]
  },
  {
   "cell_type": "code",
   "execution_count": 34,
   "metadata": {},
   "outputs": [
    {
     "data": {
      "text/plain": [
       "array([12, 14, 16])"
      ]
     },
     "execution_count": 34,
     "metadata": {},
     "output_type": "execute_result"
    }
   ],
   "source": [
    "#create an array of 12, 14, 16\n",
    "np.arange(12, 17, 2)"
   ]
  },
  {
   "cell_type": "markdown",
   "metadata": {},
   "source": [
    "### 牛刀小試\n",
    "\n",
    "利用np.arange()建立這個陣列： array([2, 4, 6, 8, 10])"
   ]
  },
  {
   "cell_type": "code",
   "execution_count": 35,
   "metadata": {},
   "outputs": [],
   "source": [
    "# 有空間才能思考\n",
    "\n",
    "\n",
    "\n",
    "\n",
    "\n",
    "\n",
    "\n",
    "\n",
    "\n"
   ]
  },
  {
   "cell_type": "code",
   "execution_count": 30,
   "metadata": {},
   "outputs": [
    {
     "data": {
      "text/plain": [
       "array([ 2,  4,  6,  8, 10])"
      ]
     },
     "execution_count": 30,
     "metadata": {},
     "output_type": "execute_result"
    }
   ],
   "source": [
    "# 參考解答\n",
    "\n",
    "np.arange(2, 11, 2)"
   ]
  },
  {
   "cell_type": "markdown",
   "metadata": {},
   "source": [
    "***\n",
    "\n",
    "操作numpy陣列一個很重要的技巧叫indexing，大致上的意思是由一個陣列中取出部份我們需要的元素。\n",
    "\n",
    "這一系列的操作最完整的文件在這裡：\n",
    "https://docs.scipy.org/doc/numpy/reference/arrays.indexing.html\n",
    "    \n",
    "我們將會針對一些比較常用的操作說明。你應該要找時間把上面的連結好好看一下。\n",
    "\n",
    "第一件事要強調所有的Index都是由0開始。我們先由一維矩陣的切片(Slicing)開始說明。基本的語法是`i:j:k`，其中`i`是開始的index, `j`是結束的index, `k`是一次跳多少。這跟前面np.arange的三個參數是一樣的意思。"
   ]
  },
  {
   "cell_type": "code",
   "execution_count": 31,
   "metadata": {},
   "outputs": [
    {
     "data": {
      "text/plain": [
       "array([11, 13, 15])"
      ]
     },
     "execution_count": 31,
     "metadata": {},
     "output_type": "execute_result"
    }
   ],
   "source": [
    "x = np.array([10, 11, 12, 13, 14, 15, 16, 17, 18, 19])\n",
    "x[1:7:2]"
   ]
  },
  {
   "cell_type": "markdown",
   "metadata": {},
   "source": [
    "跟Python Indexing的語法一致，numpy也支援負數的Index，意思是由後面數過來。比如說倒數第一個元素是："
   ]
  },
  {
   "cell_type": "code",
   "execution_count": 32,
   "metadata": {},
   "outputs": [
    {
     "data": {
      "text/plain": [
       "19"
      ]
     },
     "execution_count": 32,
     "metadata": {},
     "output_type": "execute_result"
    }
   ],
   "source": [
    "x[-1]"
   ]
  },
  {
   "cell_type": "markdown",
   "metadata": {},
   "source": [
    "取最後五個："
   ]
  },
  {
   "cell_type": "code",
   "execution_count": 33,
   "metadata": {},
   "outputs": [
    {
     "data": {
      "text/plain": [
       "array([15, 16, 17, 18, 19])"
      ]
     },
     "execution_count": 33,
     "metadata": {},
     "output_type": "execute_result"
    }
   ],
   "source": [
    "x[-5:]"
   ]
  },
  {
   "cell_type": "markdown",
   "metadata": {},
   "source": [
    "取最後五個，但順序到過來："
   ]
  },
  {
   "cell_type": "code",
   "execution_count": 34,
   "metadata": {},
   "outputs": [
    {
     "data": {
      "text/plain": [
       "array([19, 18, 17, 16, 15])"
      ]
     },
     "execution_count": 34,
     "metadata": {},
     "output_type": "execute_result"
    }
   ],
   "source": [
    "x[-1:-6:-1]"
   ]
  },
  {
   "cell_type": "markdown",
   "metadata": {},
   "source": [
    "類似的語法也可以二維的陣列上。考慮下面的x2"
   ]
  },
  {
   "cell_type": "code",
   "execution_count": 35,
   "metadata": {},
   "outputs": [
    {
     "data": {
      "text/plain": [
       "array([[10, 11, 12, 13, 14, 15, 16],\n",
       "       [50, 51, 52, 53, 54, 55, 56],\n",
       "       [70, 71, 72, 73, 74, 75, 76]])"
      ]
     },
     "execution_count": 35,
     "metadata": {},
     "output_type": "execute_result"
    }
   ],
   "source": [
    "x2 = np.array([[10, 11, 12, 13, 14, 15, 16],\n",
    "               [50, 51, 52, 53, 54, 55, 56], \n",
    "               [70, 71, 72, 73, 74, 75, 76]])\n",
    "x2"
   ]
  },
  {
   "cell_type": "markdown",
   "metadata": {},
   "source": [
    "我們可以取Row 1與Columns 2, 3:"
   ]
  },
  {
   "cell_type": "code",
   "execution_count": 36,
   "metadata": {},
   "outputs": [
    {
     "data": {
      "text/plain": [
       "array([52, 53])"
      ]
     },
     "execution_count": 36,
     "metadata": {},
     "output_type": "execute_result"
    }
   ],
   "source": [
    "x2[1, 2:4]"
   ]
  },
  {
   "cell_type": "markdown",
   "metadata": {},
   "source": [
    "或是取取Row 1,2 與Columns 2, 3:"
   ]
  },
  {
   "cell_type": "code",
   "execution_count": 37,
   "metadata": {},
   "outputs": [
    {
     "data": {
      "text/plain": [
       "array([[52, 53],\n",
       "       [72, 73]])"
      ]
     },
     "execution_count": 37,
     "metadata": {},
     "output_type": "execute_result"
    }
   ],
   "source": [
    "x2[1:3, 2:4]"
   ]
  },
  {
   "cell_type": "markdown",
   "metadata": {},
   "source": [
    "以上所介紹的叫Basic Indexing。這種Indexing and Slicing的方式有一個很重要的特性，就是回傳的東西是原來陣列的一個View。也就是說，回傳的東西與原來的陣列是連動的。這個特性如果沒有弄清楚常會造成程式 **不可預期的錯誤** 。\n",
    "\n",
    "要展示這個問題，我們考慮一個新的變數x5:"
   ]
  },
  {
   "cell_type": "code",
   "execution_count": 38,
   "metadata": {},
   "outputs": [
    {
     "data": {
      "text/plain": [
       "array([10, 11, 12, 13, 14, 15, 16, 17, 18, 19])"
      ]
     },
     "execution_count": 38,
     "metadata": {},
     "output_type": "execute_result"
    }
   ],
   "source": [
    "x5 = np.array([10, 11, 12, 13, 14, 15, 16, 17, 18, 19])\n",
    "x5"
   ]
  },
  {
   "cell_type": "code",
   "execution_count": 39,
   "metadata": {},
   "outputs": [
    {
     "data": {
      "text/plain": [
       "array([13, 14, 15, 16, 17, 18, 19])"
      ]
     },
     "execution_count": 39,
     "metadata": {},
     "output_type": "execute_result"
    }
   ],
   "source": [
    "# 取位置3之後的元素\n",
    "\n",
    "subx1 = x5[3:]\n",
    "subx1"
   ]
  },
  {
   "cell_type": "code",
   "execution_count": 40,
   "metadata": {},
   "outputs": [
    {
     "data": {
      "text/plain": [
       "array([13, 14, 15,  5, 17, 18, 19])"
      ]
     },
     "execution_count": 40,
     "metadata": {},
     "output_type": "execute_result"
    }
   ],
   "source": [
    "# 將取出的子陣列中第三個位置的值改變\n",
    "\n",
    "subx1[3] = 5\n",
    "subx1"
   ]
  },
  {
   "cell_type": "code",
   "execution_count": 41,
   "metadata": {},
   "outputs": [
    {
     "data": {
      "text/plain": [
       "array([10, 11, 12, 13, 14, 15,  5, 17, 18, 19])"
      ]
     },
     "execution_count": 41,
     "metadata": {},
     "output_type": "execute_result"
    }
   ],
   "source": [
    "# 這個操作也會影響到原來的變數\n",
    "\n",
    "x5"
   ]
  },
  {
   "cell_type": "markdown",
   "metadata": {},
   "source": [
    "Numpy還有另一種取子陣列的方式，叫Advanced Indexing。這種作法是利用一個list或tuple取出想要的元素。比如我們想要x中位置2, 3, 7的元素，可以這樣做："
   ]
  },
  {
   "cell_type": "code",
   "execution_count": 42,
   "metadata": {},
   "outputs": [
    {
     "data": {
      "text/plain": [
       "array([12, 13, 17])"
      ]
     },
     "execution_count": 42,
     "metadata": {},
     "output_type": "execute_result"
    }
   ],
   "source": [
    "subx2= x[[2, 3, 7]]\n",
    "subx2"
   ]
  },
  {
   "cell_type": "markdown",
   "metadata": {},
   "source": [
    "這種作法比較有彈性，而且跟前面Basic Indexing最大的不同是，回傳的物件是原物件的一個copy，而不是view。也就是說，更動這個回傳的物件不會影響原來物件的數值。\n",
    "\n",
    "請看下面的例子："
   ]
  },
  {
   "cell_type": "code",
   "execution_count": 43,
   "metadata": {},
   "outputs": [
    {
     "data": {
      "text/plain": [
       "array([-5, 13, 17])"
      ]
     },
     "execution_count": 43,
     "metadata": {},
     "output_type": "execute_result"
    }
   ],
   "source": [
    "subx2[0] = -5\n",
    "subx2"
   ]
  },
  {
   "cell_type": "code",
   "execution_count": 44,
   "metadata": {},
   "outputs": [
    {
     "data": {
      "text/plain": [
       "array([10, 11, 12, 13, 14, 15, 16, 17, 18, 19])"
      ]
     },
     "execution_count": 44,
     "metadata": {},
     "output_type": "execute_result"
    }
   ],
   "source": [
    "x"
   ]
  },
  {
   "cell_type": "code",
   "execution_count": 46,
   "metadata": {},
   "outputs": [
    {
     "data": {
      "text/plain": [
       "array([13, 14, 15,  5, 17, 18, 19])"
      ]
     },
     "execution_count": 46,
     "metadata": {},
     "output_type": "execute_result"
    }
   ],
   "source": [
    "#copy a numpy variable\n",
    "subx3 = subx1.copy()\n",
    "subx3"
   ]
  },
  {
   "cell_type": "code",
   "execution_count": 47,
   "metadata": {},
   "outputs": [
    {
     "data": {
      "text/plain": [
       "array([13, 14, 15,  5, 17, 18, -9])"
      ]
     },
     "execution_count": 47,
     "metadata": {},
     "output_type": "execute_result"
    }
   ],
   "source": [
    "subx3[-1] = -9\n",
    "subx3"
   ]
  },
  {
   "cell_type": "code",
   "execution_count": 48,
   "metadata": {},
   "outputs": [
    {
     "data": {
      "text/plain": [
       "array([10, 11, 12, 13, 14, 15,  5, 17, 18, 19])"
      ]
     },
     "execution_count": 48,
     "metadata": {},
     "output_type": "execute_result"
    }
   ],
   "source": [
    "x5"
   ]
  },
  {
   "cell_type": "markdown",
   "metadata": {},
   "source": [
    "# 牛刀小試\n",
    "\n",
    "生成下面的矩陣：\n",
    "\n",
    "```array([[0., 0., 0., 0., 0., 0.],\n",
    "       [0., 0., 0., 0., 0., 0.],\n",
    "       [0., 0., 0., 0., 0., 0.],\n",
    "       [0., 0., 0., 0., 0., 0.]])```"
   ]
  },
  {
   "cell_type": "code",
   "execution_count": null,
   "metadata": {},
   "outputs": [],
   "source": [
    "# 有空間才能思考\n",
    "\n",
    "\n",
    "\n",
    "\n",
    "\n",
    "\n",
    "\n"
   ]
  },
  {
   "cell_type": "code",
   "execution_count": 49,
   "metadata": {},
   "outputs": [
    {
     "data": {
      "text/plain": [
       "array([[0., 0., 0., 0., 0., 0.],\n",
       "       [0., 0., 0., 0., 0., 0.],\n",
       "       [0., 0., 0., 0., 0., 0.],\n",
       "       [0., 0., 0., 0., 0., 0.]])"
      ]
     },
     "execution_count": 49,
     "metadata": {},
     "output_type": "execute_result"
    }
   ],
   "source": [
    "# 參考解答\n",
    "\n",
    "z1 = np.zeros((4, 6))\n",
    "z1"
   ]
  },
  {
   "cell_type": "markdown",
   "metadata": {},
   "source": [
    "# 牛刀小試\n",
    "\n",
    "生成下面的矩陣：\n",
    "\n",
    "```array([[0., 1., 2., 3., 4., 5.],\n",
    "       [1., 2., 3., 4., 5., 6.],\n",
    "       [2., 3., 4., 5., 6., 7.],\n",
    "       [3., 4., 5., 6., 7., 8.]])```"
   ]
  },
  {
   "cell_type": "code",
   "execution_count": 59,
   "metadata": {},
   "outputs": [],
   "source": [
    "# 有空間才能思考\n",
    "\n",
    "\n",
    "\n",
    "\n",
    "\n",
    "\n",
    "\n"
   ]
  },
  {
   "cell_type": "code",
   "execution_count": 50,
   "metadata": {},
   "outputs": [
    {
     "data": {
      "text/plain": [
       "array([[0., 1., 2., 3., 4., 5.],\n",
       "       [1., 2., 3., 4., 5., 6.],\n",
       "       [2., 3., 4., 5., 6., 7.],\n",
       "       [3., 4., 5., 6., 7., 8.]])"
      ]
     },
     "execution_count": 50,
     "metadata": {},
     "output_type": "execute_result"
    }
   ],
   "source": [
    "# 參考解答\n",
    "z2 = np.zeros((4, 6))\n",
    "for i in range(4):\n",
    "    z2[i,] = range(i, i+6)\n",
    "    \n",
    "z2"
   ]
  },
  {
   "cell_type": "markdown",
   "metadata": {},
   "source": [
    "# 牛刀小試\n",
    "\n",
    "生成下面的矩陣：\n",
    "\n",
    "```array([[1. , 0.5, 0. , 0. , 0. ],\n",
    "       [0.3, 1. , 0.5, 0. , 0. ],\n",
    "       [0. , 0.3, 1. , 0.5, 0. ],\n",
    "       [0. , 0. , 0.3, 1. , 0.5],\n",
    "       [0. , 0. , 0. , 0.3, 1. ]])```"
   ]
  },
  {
   "cell_type": "code",
   "execution_count": 61,
   "metadata": {},
   "outputs": [],
   "source": [
    "# 有空間才能思考\n",
    "\n",
    "\n",
    "\n",
    "\n",
    "\n",
    "\n",
    "\n"
   ]
  },
  {
   "cell_type": "code",
   "execution_count": 51,
   "metadata": {},
   "outputs": [
    {
     "data": {
      "text/plain": [
       "array([[1. , 0.5, 0. , 0. , 0. ],\n",
       "       [0.3, 1. , 0.5, 0. , 0. ],\n",
       "       [0. , 0.3, 1. , 0.5, 0. ],\n",
       "       [0. , 0. , 0.3, 1. , 0.5],\n",
       "       [0. , 0. , 0. , 0.3, 1. ]])"
      ]
     },
     "execution_count": 51,
     "metadata": {},
     "output_type": "execute_result"
    }
   ],
   "source": [
    "# 參考解答\n",
    "z3 = np.eye(5)\n",
    "for i in range(4):\n",
    "    z3[i, i+1] = 0.5\n",
    "    z3[i+1, i] = 0.3\n",
    "    \n",
    "z3"
   ]
  },
  {
   "cell_type": "code",
   "execution_count": null,
   "metadata": {},
   "outputs": [],
   "source": []
  }
 ],
 "metadata": {
  "kernelspec": {
   "display_name": "Python 3",
   "language": "python",
   "name": "python3"
  },
  "language_info": {
   "codemirror_mode": {
    "name": "ipython",
    "version": 3
   },
   "file_extension": ".py",
   "mimetype": "text/x-python",
   "name": "python",
   "nbconvert_exporter": "python",
   "pygments_lexer": "ipython3",
   "version": "3.7.3"
  }
 },
 "nbformat": 4,
 "nbformat_minor": 4
}
